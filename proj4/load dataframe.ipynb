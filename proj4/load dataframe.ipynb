{
 "cells": [
  {
   "cell_type": "code",
   "execution_count": 2,
   "metadata": {
    "ExecuteTime": {
     "end_time": "2017-02-22T19:06:05.129459",
     "start_time": "2017-02-22T19:06:04.603908"
    },
    "collapsed": true
   },
   "outputs": [],
   "source": [
    "# -*- coding: utf-8 -*-\n",
    "# Импорты\n",
    "CUDA_VISIBLE_DEVICES=-1 \n",
    "import os\n",
    "import pandas as pd\n",
    "from multiprocessing import Pool\n",
    "import warnings\n",
    "warnings.filterwarnings(\"ignore\")\n",
    "import numpy as np\n"
   ]
  },
  {
   "cell_type": "code",
   "execution_count": 3,
   "metadata": {
    "ExecuteTime": {
     "end_time": "2017-02-22T19:06:05.188925",
     "start_time": "2017-02-22T19:06:05.134339"
    },
    "collapsed": true
   },
   "outputs": [],
   "source": [
    "def listdir_fullpath(d):\n",
    "    return [os.path.join(d, f) for f in sorted(os.listdir(d))]\n",
    "   \n",
    "   # Функция загрузки одного файла\n",
    "dateparse = lambda x: pd.datetime.strptime(x, '%d.%m.%Y %H:%M:%S.%f')\n",
    "def load(fname):\n",
    "    R = pd.read_hdf(fname)\n",
    "    # Выделяем сделки для построения OHLC\n",
    "    D = R[R.DealPrice > 0].drop(['Price', 'Flags'], 1)\n",
    "    T = D.resample(Frame, how={'DealPrice': 'ohlc'})\n",
    "    T['Change'] = T.DealPrice.close - T.DealPrice.open\n",
    "    \n",
    "    # Делим на buy/sell-факторы\n",
    "    for b in BS:\n",
    "        S = R[R.Flags.str.contains(b, regex=False)]\n",
    "        for s in SA:\n",
    "            F = S[S.Flags.str.contains(s, regex=False)].resample(Frame)\n",
    "            T = T.join(F.count().rename(columns = {'Amount': s + b + 'Cnt'}).drop(['Price', 'DealPrice', 'OI', 'Flags'], 1))\n",
    "            T = T.join(F.sum().rename(columns = {'Amount': s + b + 'Sum'}).drop(['Price', 'DealPrice', 'OI'], 1))\n",
    "    \n",
    "    for s in SA:\n",
    "        T[s + 'CntDelta'] = T[s + 'BuyCnt'] - T[s + 'SellCnt']\n",
    "        T[s + 'CntRatio'] = T[s + 'BuyCnt'] / T[s + 'SellCnt'] - 1\n",
    "        T[s + 'SumDelta'] = T[s + 'BuySum'] - T[s + 'SellSum']\n",
    "        T[s + 'SumRatio'] = T[s + 'BuySum'] / T[s + 'SellSum'] - 1\n",
    "        \n",
    "    return T"
   ]
  },
  {
   "cell_type": "code",
   "execution_count": 6,
   "metadata": {
    "ExecuteTime": {
     "end_time": "2017-02-22T19:08:45.719785",
     "start_time": "2017-02-22T19:08:05.793131"
    }
   },
   "outputs": [],
   "source": [
    "# Параметры\n",
    "Frame='60s'\n",
    "prefix = '../../hdf/'\n",
    "postfix = ['RTS-12.15']\n",
    "dirr = [prefix+x for x in postfix]\n",
    "BS = ['Buy', 'Sell']\n",
    "SA = ['Add', 'Fill', 'Cancel', 'Move']\n",
    "\n",
    "# Загружаем все файлы параллельно, затем соединяем их в один DataFrame\n",
    "R = pd.DataFrame()\n",
    "for t in dirr:\n",
    "    R1 = pd.concat(Pool().map(load, listdir_fullpath(t)))\n",
    "    R = pd.concat([R, R1])\n",
    "\n",
    "# Дропнем nan'ы\n",
    "R = R.dropna()\n",
    "R = R.replace([np.inf, -np.inf], np.nan).dropna(how=\"all\")"
   ]
  },
  {
   "cell_type": "code",
   "execution_count": 7,
   "metadata": {
    "ExecuteTime": {
     "end_time": "2017-02-22T19:08:53.156397",
     "start_time": "2017-02-22T19:08:53.103093"
    }
   },
   "outputs": [],
   "source": [
    "R.to_pickle(str(postfix))  # where to save it, usually as a .pkl"
   ]
  },
  {
   "cell_type": "code",
   "execution_count": null,
   "metadata": {
    "collapsed": true
   },
   "outputs": [],
   "source": []
  }
 ],
 "metadata": {
  "kernelspec": {
   "display_name": "Python 3",
   "language": "python",
   "name": "python3"
  },
  "language_info": {
   "codemirror_mode": {
    "name": "ipython",
    "version": 3
   },
   "file_extension": ".py",
   "mimetype": "text/x-python",
   "name": "python",
   "nbconvert_exporter": "python",
   "pygments_lexer": "ipython3",
   "version": "3.5.2"
  }
 },
 "nbformat": 4,
 "nbformat_minor": 2
}
